{
 "cells": [
  {
   "cell_type": "markdown",
   "id": "3920dc3c-e3f8-4d4b-b287-4b8e877a7c70",
   "metadata": {},
   "source": [
    "## Identifying Poisonous Mushrooms  \n",
    "#### Exploring and preparing the data"
   ]
  },
  {
   "cell_type": "code",
   "execution_count": null,
   "id": "dcaddf82-4060-406f-84bc-46fe51461182",
   "metadata": {},
   "outputs": [],
   "source": [
    "mushrooms <- read.csv(\"mushrooms.csv\", stringsAsFactors = TRUE)"
   ]
  },
  {
   "cell_type": "code",
   "execution_count": 2,
   "id": "5cf5a413-0b29-4123-a29b-436812d736a9",
   "metadata": {},
   "outputs": [
    {
     "name": "stdout",
     "output_type": "stream",
     "text": [
      "'data.frame':\t8124 obs. of  23 variables:\n",
      " $ type                    : Factor w/ 2 levels \"edible\",\"poisonous\": 2 1 1 2 1 1 1 1 2 1 ...\n",
      " $ cap_shape               : Factor w/ 6 levels \"bell\",\"conical\",..: 3 3 1 3 3 3 1 1 3 1 ...\n",
      " $ cap_surface             : Factor w/ 4 levels \"fibrous\",\"grooves\",..: 4 4 4 3 4 3 4 3 3 4 ...\n",
      " $ cap_color               : Factor w/ 10 levels \"brown\",\"buff\",..: 1 10 9 9 4 10 9 9 9 10 ...\n",
      " $ bruises                 : Factor w/ 2 levels \"no\",\"yes\": 2 2 2 2 1 2 2 2 2 2 ...\n",
      " $ odor                    : Factor w/ 9 levels \"almond\",\"anise\",..: 8 1 2 8 7 1 1 2 8 1 ...\n",
      " $ gill_attachment         : Factor w/ 2 levels \"attached\",\"free\": 2 2 2 2 2 2 2 2 2 2 ...\n",
      " $ gill_spacing            : Factor w/ 2 levels \"close\",\"crowded\": 1 1 1 1 2 1 1 1 1 1 ...\n",
      " $ gill_size               : Factor w/ 2 levels \"broad\",\"narrow\": 2 1 1 2 1 1 1 1 2 1 ...\n",
      " $ gill_color              : Factor w/ 12 levels \"black\",\"brown\",..: 1 1 2 2 1 2 5 2 8 5 ...\n",
      " $ stalk_shape             : Factor w/ 2 levels \"enlarging\",\"tapering\": 1 1 1 1 2 1 1 1 1 1 ...\n",
      " $ stalk_root              : Factor w/ 5 levels \"bulbous\",\"club\",..: 3 2 2 3 3 2 2 2 3 2 ...\n",
      " $ stalk_surface_above_ring: Factor w/ 4 levels \"fibrous\",\"scaly\",..: 4 4 4 4 4 4 4 4 4 4 ...\n",
      " $ stalk_surface_below_ring: Factor w/ 4 levels \"fibrous\",\"scaly\",..: 4 4 4 4 4 4 4 4 4 4 ...\n",
      " $ stalk_color_above_ring  : Factor w/ 9 levels \"brown\",\"buff\",..: 8 8 8 8 8 8 8 8 8 8 ...\n",
      " $ stalk_color_below_ring  : Factor w/ 9 levels \"brown\",\"buff\",..: 8 8 8 8 8 8 8 8 8 8 ...\n",
      " $ veil_type               : Factor w/ 1 level \"partial\": 1 1 1 1 1 1 1 1 1 1 ...\n",
      " $ veil_color              : Factor w/ 4 levels \"brown\",\"orange\",..: 3 3 3 3 3 3 3 3 3 3 ...\n",
      " $ ring_number             : Factor w/ 3 levels \"none\",\"one\",\"two\": 2 2 2 2 2 2 2 2 2 2 ...\n",
      " $ ring_type               : Factor w/ 5 levels \"evanescent\",\"flaring\",..: 5 5 5 5 1 5 5 5 5 5 ...\n",
      " $ spore_print_color       : Factor w/ 9 levels \"black\",\"brown\",..: 1 2 2 1 2 1 1 2 1 1 ...\n",
      " $ population              : Factor w/ 6 levels \"abundant\",\"clustered\",..: 4 3 3 4 1 3 3 4 5 4 ...\n",
      " $ habitat                 : Factor w/ 7 levels \"grasses\",\"leaves\",..: 5 1 3 5 1 1 3 3 1 3 ...\n"
     ]
    }
   ],
   "source": [
    "# examine the structure of the data frame\n",
    "str(mushrooms)"
   ]
  },
  {
   "cell_type": "code",
   "execution_count": 14,
   "id": "226ebd22-30f0-482b-bd14-a5a3e66c521c",
   "metadata": {},
   "outputs": [],
   "source": [
    "# dropping the veil_type feature because it has only one level\n",
    "mushrooms$veil_type <- NULL"
   ]
  },
  {
   "cell_type": "code",
   "execution_count": 4,
   "id": "bc1ae636-1d4a-4f73-bd1a-11204b66454c",
   "metadata": {},
   "outputs": [
    {
     "data": {
      "text/plain": [
       "\n",
       "   edible poisonous \n",
       "     4208      3916 "
      ]
     },
     "metadata": {},
     "output_type": "display_data"
    }
   ],
   "source": [
    "# examine the class distribution using the \"table\" function\n",
    "table(mushrooms$type)"
   ]
  },
  {
   "cell_type": "code",
   "execution_count": 9,
   "id": "f81920a7-360b-481a-8573-cd2cc19928dd",
   "metadata": {},
   "outputs": [],
   "source": [
    "## Step 3: Training a model on the data ----\n",
    "library(RWeka)"
   ]
  },
  {
   "cell_type": "code",
   "execution_count": 7,
   "id": "f95379b0-2121-464c-9b14-56295d84d39d",
   "metadata": {},
   "outputs": [
    {
     "name": "stderr",
     "output_type": "stream",
     "text": [
      "also installing the dependencies 'RWekajars', 'rJava'\n",
      "\n"
     ]
    },
    {
     "name": "stdout",
     "output_type": "stream",
     "text": [
      "\n",
      "  There are binary versions available but the source versions are later:\n",
      "      binary source needs_compilation\n",
      "rJava  1.0-4  1.0-6              TRUE\n",
      "RWeka 0.4-43 0.4-44             FALSE\n",
      "\n",
      "  Binaries will be installed\n",
      "package 'RWekajars' successfully unpacked and MD5 sums checked\n",
      "package 'rJava' successfully unpacked and MD5 sums checked\n",
      "\n",
      "The downloaded binary packages are in\n",
      "\tC:\\Users\\EDEH EMEKA NWEKE\\AppData\\Local\\Temp\\RtmpI5V6jv\\downloaded_packages\n"
     ]
    },
    {
     "name": "stderr",
     "output_type": "stream",
     "text": [
      "installing the source package 'RWeka'\n",
      "\n"
     ]
    }
   ],
   "source": [
    "install.packages(\"RWeka\")"
   ]
  },
  {
   "cell_type": "code",
   "execution_count": 10,
   "id": "1733c129-bc9b-469e-b6b4-058627d1b2fd",
   "metadata": {},
   "outputs": [],
   "source": [
    "# train OneR() on the data\n",
    "mushroom_1R <- OneR(type ~ ., data = mushrooms)"
   ]
  },
  {
   "cell_type": "code",
   "execution_count": 11,
   "id": "895c25f0-9505-47b6-94e3-0494797a8b1e",
   "metadata": {},
   "outputs": [
    {
     "data": {
      "text/plain": [
       "odor:\n",
       "\talmond\t-> edible\n",
       "\tanise\t-> edible\n",
       "\tcreosote\t-> poisonous\n",
       "\tfishy\t-> poisonous\n",
       "\tfoul\t-> poisonous\n",
       "\tmusty\t-> poisonous\n",
       "\tnone\t-> edible\n",
       "\tpungent\t-> poisonous\n",
       "\tspicy\t-> poisonous\n",
       "(8004/8124 instances correct)\n"
      ]
     },
     "metadata": {},
     "output_type": "display_data"
    },
    {
     "data": {
      "text/plain": [
       "\n",
       "=== Summary ===\n",
       "\n",
       "Correctly Classified Instances        8004               98.5229 %\n",
       "Incorrectly Classified Instances       120                1.4771 %\n",
       "Kappa statistic                          0.9704\n",
       "Mean absolute error                      0.0148\n",
       "Root mean squared error                  0.1215\n",
       "Relative absolute error                  2.958  %\n",
       "Root relative squared error             24.323  %\n",
       "Total Number of Instances             8124     \n",
       "\n",
       "=== Confusion Matrix ===\n",
       "\n",
       "    a    b   <-- classified as\n",
       " 4208    0 |    a = edible\n",
       "  120 3796 |    b = poisonous"
      ]
     },
     "metadata": {},
     "output_type": "display_data"
    }
   ],
   "source": [
    "## SteEvaluating model performance ----\n",
    "mushroom_1R\n",
    "summary(mushroom_1R)"
   ]
  },
  {
   "cell_type": "markdown",
   "id": "166a69f8-06e2-459b-b1e4-dd2ace16dab2",
   "metadata": {},
   "source": [
    "#### From the above summary, about 98% of the instances were correctly classified with an error of just 1.477%"
   ]
  },
  {
   "cell_type": "code",
   "execution_count": 13,
   "id": "4f48fc68-1b2f-4e86-a98c-091d37579a9f",
   "metadata": {},
   "outputs": [
    {
     "data": {
      "text/plain": [
       "JRIP rules:\n",
       "===========\n",
       "\n",
       "(odor = foul) => type=poisonous (2160.0/0.0)\n",
       "(gill_size = narrow) and (gill_color = buff) => type=poisonous (1152.0/0.0)\n",
       "(gill_size = narrow) and (odor = pungent) => type=poisonous (256.0/0.0)\n",
       "(odor = creosote) => type=poisonous (192.0/0.0)\n",
       "(spore_print_color = green) => type=poisonous (72.0/0.0)\n",
       "(stalk_surface_below_ring = scaly) and (stalk_surface_above_ring = silky) => type=poisonous (68.0/0.0)\n",
       "(habitat = leaves) and (cap_color = white) => type=poisonous (8.0/0.0)\n",
       "(stalk_color_above_ring = yellow) => type=poisonous (8.0/0.0)\n",
       " => type=edible (4208.0/0.0)\n",
       "\n",
       "Number of Rules : 9\n"
      ]
     },
     "metadata": {},
     "output_type": "display_data"
    },
    {
     "data": {
      "text/plain": [
       "\n",
       "=== Summary ===\n",
       "\n",
       "Correctly Classified Instances        8124              100      %\n",
       "Incorrectly Classified Instances         0                0      %\n",
       "Kappa statistic                          1     \n",
       "Mean absolute error                      0     \n",
       "Root mean squared error                  0     \n",
       "Relative absolute error                  0      %\n",
       "Root relative squared error              0      %\n",
       "Total Number of Instances             8124     \n",
       "\n",
       "=== Confusion Matrix ===\n",
       "\n",
       "    a    b   <-- classified as\n",
       " 4208    0 |    a = edible\n",
       "    0 3916 |    b = poisonous"
      ]
     },
     "metadata": {},
     "output_type": "display_data"
    }
   ],
   "source": [
    "## Improving model performance\n",
    "mushroom_JRip <- JRip(type ~ ., data = mushrooms)\n",
    "mushroom_JRip\n",
    "summary(mushroom_JRip)"
   ]
  },
  {
   "cell_type": "markdown",
   "id": "84fe044f-e4ef-42a2-809b-c823d372e5dd",
   "metadata": {},
   "source": [
    "#### All the instances are now correctly classified after improving the model perfomance with JRip"
   ]
  },
  {
   "cell_type": "code",
   "execution_count": null,
   "id": "7853acf8-04d3-4001-b3e6-dd36af73188a",
   "metadata": {},
   "outputs": [],
   "source": []
  }
 ],
 "metadata": {
  "kernelspec": {
   "display_name": "R",
   "language": "R",
   "name": "ir"
  },
  "language_info": {
   "codemirror_mode": "r",
   "file_extension": ".r",
   "mimetype": "text/x-r-source",
   "name": "R",
   "pygments_lexer": "r",
   "version": "3.6.1"
  }
 },
 "nbformat": 4,
 "nbformat_minor": 5
}
